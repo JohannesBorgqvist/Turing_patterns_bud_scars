{
 "cells": [
  {
   "cell_type": "markdown",
   "metadata": {},
   "source": [
    "# Analyse data from vtu-files\n",
    "*Date*: 2022-05-12,<br>\n",
    "*Written by:* Johannes Borgqvist,<br>\n",
    "Now we will try to load data from the FEM simulations of the RD model with FEniCS and see if we can analyse it. \n"
   ]
  }
 ],
 "metadata": {
  "kernelspec": {
   "display_name": "Python 3",
   "language": "python",
   "name": "python3"
  },
  "language_info": {
   "codemirror_mode": {
    "name": "ipython",
    "version": 3
   },
   "file_extension": ".py",
   "mimetype": "text/x-python",
   "name": "python",
   "nbconvert_exporter": "python",
   "pygments_lexer": "ipython3",
   "version": "3.8.10"
  }
 },
 "nbformat": 4,
 "nbformat_minor": 4
}
